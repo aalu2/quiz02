{
  "nbformat": 4,
  "nbformat_minor": 0,
  "metadata": {
    "colab": {
      "provenance": []
    },
    "kernelspec": {
      "name": "python3",
      "display_name": "Python 3"
    },
    "language_info": {
      "name": "python"
    }
  },
  "cells": [
    {
      "cell_type": "code",
      "source": [
        "def letter_frequency(s):\n",
        "    freq = {}\n",
        "\n",
        "    for char in s:\n",
        "        if char.isalpha():\n",
        "            char = char.lower()\n",
        "            if char in freq:\n",
        "                freq[char] += 1\n",
        "            else:\n",
        "                freq[char] = 1\n",
        "\n",
        "    for char, num in freq.items():\n",
        "        print(f\"{char}: {num}\")\n",
        "\n",
        "string_input = input(\"Please provide a string: \")\n",
        "letter_frequency(string_input)"
      ],
      "metadata": {
        "colab": {
          "base_uri": "https://localhost:8080/"
        },
        "id": "y6IYRY-z1mqn",
        "outputId": "ef1547df-aea6-4d54-c8c4-a3704f31cf93"
      },
      "execution_count": 2,
      "outputs": [
        {
          "output_type": "stream",
          "name": "stdout",
          "text": [
            "Please provide a string: aaditya\n",
            "a: 3\n",
            "d: 1\n",
            "i: 1\n",
            "t: 1\n",
            "y: 1\n"
          ]
        }
      ]
    }
  ]
}